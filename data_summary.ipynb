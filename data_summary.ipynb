{
 "cells": [
  {
   "cell_type": "markdown",
   "metadata": {
    "toc": true
   },
   "source": [
    "<h1>Table of Contents<span class=\"tocSkip\"></span></h1>\n",
    "<div class=\"toc\"><ul class=\"toc-item\"></ul></div>"
   ]
  },
  {
   "cell_type": "code",
   "execution_count": 48,
   "metadata": {},
   "outputs": [],
   "source": [
    "import pandas as pd"
   ]
  },
  {
   "cell_type": "code",
   "execution_count": 49,
   "metadata": {},
   "outputs": [],
   "source": [
    "codebook = pd.read_csv('data/Codebook.csv', encoding = \"ISO-8859-1\")\n",
    "trigger = pd.read_csv('data/Trigger_Ave.csv', encoding = \"ISO-8859-1\")\n",
    "followup = pd.read_csv('data/Follow_Up.csv', encoding = \"ISO-8859-1\")"
   ]
  },
  {
   "cell_type": "code",
   "execution_count": 50,
   "metadata": {},
   "outputs": [
    {
     "data": {
      "text/html": [
       "<div>\n",
       "<style scoped>\n",
       "    .dataframe tbody tr th:only-of-type {\n",
       "        vertical-align: middle;\n",
       "    }\n",
       "\n",
       "    .dataframe tbody tr th {\n",
       "        vertical-align: top;\n",
       "    }\n",
       "\n",
       "    .dataframe thead th {\n",
       "        text-align: right;\n",
       "    }\n",
       "</style>\n",
       "<table border=\"1\" class=\"dataframe\">\n",
       "  <thead>\n",
       "    <tr style=\"text-align: right;\">\n",
       "      <th></th>\n",
       "      <th>Trig_date</th>\n",
       "      <th>District</th>\n",
       "      <th>Chiefdom</th>\n",
       "      <th>Section</th>\n",
       "      <th>Name_of_community</th>\n",
       "      <th>Male_child</th>\n",
       "      <th>Male_Adult</th>\n",
       "      <th>Total_male</th>\n",
       "      <th>Female_child</th>\n",
       "      <th>Female_adult</th>\n",
       "      <th>...</th>\n",
       "      <th>d_ma</th>\n",
       "      <th>d_fa</th>\n",
       "      <th>b_mc</th>\n",
       "      <th>b_fc</th>\n",
       "      <th>b_ma</th>\n",
       "      <th>b_fa</th>\n",
       "      <th>cb_mc</th>\n",
       "      <th>cb_fc</th>\n",
       "      <th>cb_ma</th>\n",
       "      <th>cb_fa</th>\n",
       "    </tr>\n",
       "  </thead>\n",
       "  <tbody>\n",
       "    <tr>\n",
       "      <th>0</th>\n",
       "      <td>2015-02-03</td>\n",
       "      <td>Kono</td>\n",
       "      <td>Gbomoti</td>\n",
       "      <td>Komende</td>\n",
       "      <td>Sakrim</td>\n",
       "      <td>107.0</td>\n",
       "      <td>155.0</td>\n",
       "      <td>262</td>\n",
       "      <td>103.0</td>\n",
       "      <td>192.0</td>\n",
       "      <td>...</td>\n",
       "      <td>0.0</td>\n",
       "      <td>2.0</td>\n",
       "      <td>0.0</td>\n",
       "      <td>1.0</td>\n",
       "      <td>0.0</td>\n",
       "      <td>1.0</td>\n",
       "      <td>0.0</td>\n",
       "      <td>0.0</td>\n",
       "      <td>0.0</td>\n",
       "      <td>1.0</td>\n",
       "    </tr>\n",
       "    <tr>\n",
       "      <th>1</th>\n",
       "      <td>2014-12-16</td>\n",
       "      <td>Kono</td>\n",
       "      <td>NaN</td>\n",
       "      <td>Sandor</td>\n",
       "      <td>Yardu Sandor</td>\n",
       "      <td>107.0</td>\n",
       "      <td>155.0</td>\n",
       "      <td>262</td>\n",
       "      <td>103.0</td>\n",
       "      <td>192.0</td>\n",
       "      <td>...</td>\n",
       "      <td>0.0</td>\n",
       "      <td>2.0</td>\n",
       "      <td>0.0</td>\n",
       "      <td>1.0</td>\n",
       "      <td>0.0</td>\n",
       "      <td>1.0</td>\n",
       "      <td>0.0</td>\n",
       "      <td>0.0</td>\n",
       "      <td>0.0</td>\n",
       "      <td>1.0</td>\n",
       "    </tr>\n",
       "    <tr>\n",
       "      <th>2</th>\n",
       "      <td>2015-02-04</td>\n",
       "      <td>Pujehun</td>\n",
       "      <td>Nyangoehun</td>\n",
       "      <td>Soso</td>\n",
       "      <td>Kpaka</td>\n",
       "      <td>84.0</td>\n",
       "      <td>115.0</td>\n",
       "      <td>199</td>\n",
       "      <td>84.0</td>\n",
       "      <td>112.0</td>\n",
       "      <td>...</td>\n",
       "      <td>0.0</td>\n",
       "      <td>0.0</td>\n",
       "      <td>0.0</td>\n",
       "      <td>0.0</td>\n",
       "      <td>0.0</td>\n",
       "      <td>0.0</td>\n",
       "      <td>0.0</td>\n",
       "      <td>0.0</td>\n",
       "      <td>0.0</td>\n",
       "      <td>0.0</td>\n",
       "    </tr>\n",
       "    <tr>\n",
       "      <th>3</th>\n",
       "      <td>2015-02-06</td>\n",
       "      <td>Pujehun</td>\n",
       "      <td>Soro Gbema</td>\n",
       "      <td>Mano River</td>\n",
       "      <td>Zozo</td>\n",
       "      <td>84.0</td>\n",
       "      <td>115.0</td>\n",
       "      <td>199</td>\n",
       "      <td>84.0</td>\n",
       "      <td>112.0</td>\n",
       "      <td>...</td>\n",
       "      <td>0.0</td>\n",
       "      <td>0.0</td>\n",
       "      <td>0.0</td>\n",
       "      <td>0.0</td>\n",
       "      <td>0.0</td>\n",
       "      <td>0.0</td>\n",
       "      <td>0.0</td>\n",
       "      <td>0.0</td>\n",
       "      <td>0.0</td>\n",
       "      <td>0.0</td>\n",
       "    </tr>\n",
       "    <tr>\n",
       "      <th>4</th>\n",
       "      <td>2015-02-03</td>\n",
       "      <td>Kono</td>\n",
       "      <td>Pesseh</td>\n",
       "      <td>Ngombahun</td>\n",
       "      <td>Kpanga Kabondeh</td>\n",
       "      <td>80.0</td>\n",
       "      <td>111.0</td>\n",
       "      <td>191</td>\n",
       "      <td>67.0</td>\n",
       "      <td>128.0</td>\n",
       "      <td>...</td>\n",
       "      <td>2.0</td>\n",
       "      <td>4.0</td>\n",
       "      <td>2.0</td>\n",
       "      <td>9.0</td>\n",
       "      <td>2.0</td>\n",
       "      <td>4.0</td>\n",
       "      <td>0.0</td>\n",
       "      <td>0.0</td>\n",
       "      <td>0.0</td>\n",
       "      <td>0.0</td>\n",
       "    </tr>\n",
       "    <tr>\n",
       "      <th>5</th>\n",
       "      <td>2014-12-16</td>\n",
       "      <td>Kono</td>\n",
       "      <td>NaN</td>\n",
       "      <td>Tankorio</td>\n",
       "      <td>Sukudu</td>\n",
       "      <td>80.0</td>\n",
       "      <td>111.0</td>\n",
       "      <td>191</td>\n",
       "      <td>67.0</td>\n",
       "      <td>128.0</td>\n",
       "      <td>...</td>\n",
       "      <td>2.0</td>\n",
       "      <td>4.0</td>\n",
       "      <td>2.0</td>\n",
       "      <td>9.0</td>\n",
       "      <td>2.0</td>\n",
       "      <td>4.0</td>\n",
       "      <td>0.0</td>\n",
       "      <td>0.0</td>\n",
       "      <td>0.0</td>\n",
       "      <td>0.0</td>\n",
       "    </tr>\n",
       "    <tr>\n",
       "      <th>6</th>\n",
       "      <td>2015-02-05</td>\n",
       "      <td>Kono</td>\n",
       "      <td>Zombo [1]</td>\n",
       "      <td>Fanima [2]</td>\n",
       "      <td>Sorogbeima</td>\n",
       "      <td>48.0</td>\n",
       "      <td>137.0</td>\n",
       "      <td>185</td>\n",
       "      <td>36.0</td>\n",
       "      <td>108.0</td>\n",
       "      <td>...</td>\n",
       "      <td>0.0</td>\n",
       "      <td>0.0</td>\n",
       "      <td>0.0</td>\n",
       "      <td>1.0</td>\n",
       "      <td>0.0</td>\n",
       "      <td>0.0</td>\n",
       "      <td>0.0</td>\n",
       "      <td>0.0</td>\n",
       "      <td>0.0</td>\n",
       "      <td>0.0</td>\n",
       "    </tr>\n",
       "    <tr>\n",
       "      <th>7</th>\n",
       "      <td>2014-12-18</td>\n",
       "      <td>Kono</td>\n",
       "      <td>NaN</td>\n",
       "      <td>Gbense</td>\n",
       "      <td>Penduma</td>\n",
       "      <td>48.0</td>\n",
       "      <td>137.0</td>\n",
       "      <td>185</td>\n",
       "      <td>36.0</td>\n",
       "      <td>108.0</td>\n",
       "      <td>...</td>\n",
       "      <td>0.0</td>\n",
       "      <td>0.0</td>\n",
       "      <td>0.0</td>\n",
       "      <td>1.0</td>\n",
       "      <td>0.0</td>\n",
       "      <td>0.0</td>\n",
       "      <td>0.0</td>\n",
       "      <td>0.0</td>\n",
       "      <td>0.0</td>\n",
       "      <td>0.0</td>\n",
       "    </tr>\n",
       "    <tr>\n",
       "      <th>8</th>\n",
       "      <td>2015-02-04</td>\n",
       "      <td>Kono</td>\n",
       "      <td>Pesseh</td>\n",
       "      <td>Mokenji</td>\n",
       "      <td>Kpanga Kabondeh</td>\n",
       "      <td>75.0</td>\n",
       "      <td>108.0</td>\n",
       "      <td>183</td>\n",
       "      <td>64.0</td>\n",
       "      <td>83.0</td>\n",
       "      <td>...</td>\n",
       "      <td>0.0</td>\n",
       "      <td>0.0</td>\n",
       "      <td>0.0</td>\n",
       "      <td>0.0</td>\n",
       "      <td>0.0</td>\n",
       "      <td>0.0</td>\n",
       "      <td>0.0</td>\n",
       "      <td>0.0</td>\n",
       "      <td>0.0</td>\n",
       "      <td>0.0</td>\n",
       "    </tr>\n",
       "    <tr>\n",
       "      <th>9</th>\n",
       "      <td>2014-12-17</td>\n",
       "      <td>Kono</td>\n",
       "      <td>NaN</td>\n",
       "      <td>Tankorio</td>\n",
       "      <td>Kania</td>\n",
       "      <td>75.0</td>\n",
       "      <td>108.0</td>\n",
       "      <td>183</td>\n",
       "      <td>64.0</td>\n",
       "      <td>83.0</td>\n",
       "      <td>...</td>\n",
       "      <td>0.0</td>\n",
       "      <td>0.0</td>\n",
       "      <td>0.0</td>\n",
       "      <td>0.0</td>\n",
       "      <td>0.0</td>\n",
       "      <td>0.0</td>\n",
       "      <td>0.0</td>\n",
       "      <td>0.0</td>\n",
       "      <td>0.0</td>\n",
       "      <td>0.0</td>\n",
       "    </tr>\n",
       "  </tbody>\n",
       "</table>\n",
       "<p>10 rows × 38 columns</p>\n",
       "</div>"
      ],
      "text/plain": [
       "    Trig_date District    Chiefdom     Section Name_of_community  Male_child  \\\n",
       "0  2015-02-03     Kono     Gbomoti     Komende            Sakrim       107.0   \n",
       "1  2014-12-16     Kono         NaN      Sandor      Yardu Sandor       107.0   \n",
       "2  2015-02-04  Pujehun  Nyangoehun        Soso             Kpaka        84.0   \n",
       "3  2015-02-06  Pujehun  Soro Gbema  Mano River              Zozo        84.0   \n",
       "4  2015-02-03     Kono      Pesseh   Ngombahun   Kpanga Kabondeh        80.0   \n",
       "5  2014-12-16     Kono         NaN    Tankorio            Sukudu        80.0   \n",
       "6  2015-02-05     Kono   Zombo [1]  Fanima [2]        Sorogbeima        48.0   \n",
       "7  2014-12-18     Kono         NaN      Gbense           Penduma        48.0   \n",
       "8  2015-02-04     Kono      Pesseh     Mokenji   Kpanga Kabondeh        75.0   \n",
       "9  2014-12-17     Kono         NaN    Tankorio             Kania        75.0   \n",
       "\n",
       "   Male_Adult  Total_male  Female_child  Female_adult  ...  d_ma  d_fa  b_mc  \\\n",
       "0       155.0         262         103.0         192.0  ...   0.0   2.0   0.0   \n",
       "1       155.0         262         103.0         192.0  ...   0.0   2.0   0.0   \n",
       "2       115.0         199          84.0         112.0  ...   0.0   0.0   0.0   \n",
       "3       115.0         199          84.0         112.0  ...   0.0   0.0   0.0   \n",
       "4       111.0         191          67.0         128.0  ...   2.0   4.0   2.0   \n",
       "5       111.0         191          67.0         128.0  ...   2.0   4.0   2.0   \n",
       "6       137.0         185          36.0         108.0  ...   0.0   0.0   0.0   \n",
       "7       137.0         185          36.0         108.0  ...   0.0   0.0   0.0   \n",
       "8       108.0         183          64.0          83.0  ...   0.0   0.0   0.0   \n",
       "9       108.0         183          64.0          83.0  ...   0.0   0.0   0.0   \n",
       "\n",
       "   b_fc  b_ma  b_fa  cb_mc  cb_fc  cb_ma  cb_fa  \n",
       "0   1.0   0.0   1.0    0.0    0.0    0.0    1.0  \n",
       "1   1.0   0.0   1.0    0.0    0.0    0.0    1.0  \n",
       "2   0.0   0.0   0.0    0.0    0.0    0.0    0.0  \n",
       "3   0.0   0.0   0.0    0.0    0.0    0.0    0.0  \n",
       "4   9.0   2.0   4.0    0.0    0.0    0.0    0.0  \n",
       "5   9.0   2.0   4.0    0.0    0.0    0.0    0.0  \n",
       "6   1.0   0.0   0.0    0.0    0.0    0.0    0.0  \n",
       "7   1.0   0.0   0.0    0.0    0.0    0.0    0.0  \n",
       "8   0.0   0.0   0.0    0.0    0.0    0.0    0.0  \n",
       "9   0.0   0.0   0.0    0.0    0.0    0.0    0.0  \n",
       "\n",
       "[10 rows x 38 columns]"
      ]
     },
     "execution_count": 50,
     "metadata": {},
     "output_type": "execute_result"
    }
   ],
   "source": [
    "trigger.head(10)"
   ]
  },
  {
   "cell_type": "code",
   "execution_count": 51,
   "metadata": {},
   "outputs": [],
   "source": [
    "response_list = pd.DataFrame(columns=['responses','mode'], index=list(trigger.columns))\n",
    "response_list['responses']=[list(trigger[col].value_counts().index) for col in trigger.columns]\n",
    "response_list['mode']=[trigger[col].mode()[0] for col in trigger.columns]"
   ]
  },
  {
   "cell_type": "code",
   "execution_count": 64,
   "metadata": {},
   "outputs": [
    {
     "data": {
      "text/plain": [
       "False"
      ]
     },
     "execution_count": 64,
     "metadata": {},
     "output_type": "execute_result"
    }
   ],
   "source": [
    "'Nongowa' in list(response_list.loc['Chiefdom']['responses'])"
   ]
  },
  {
   "cell_type": "code",
   "execution_count": 53,
   "metadata": {},
   "outputs": [
    {
     "data": {
      "text/plain": [
       "11"
      ]
     },
     "execution_count": 53,
     "metadata": {},
     "output_type": "execute_result"
    }
   ],
   "source": [
    "len(list(followup['District'].unique()))"
   ]
  },
  {
   "cell_type": "code",
   "execution_count": 54,
   "metadata": {},
   "outputs": [
    {
     "data": {
      "text/plain": [
       "12"
      ]
     },
     "execution_count": 54,
     "metadata": {},
     "output_type": "execute_result"
    }
   ],
   "source": [
    "len(list(trigger['District'].unique()))"
   ]
  },
  {
   "cell_type": "code",
   "execution_count": 55,
   "metadata": {
    "scrolled": true
   },
   "outputs": [
    {
     "data": {
      "text/plain": [
       "['Bo',\n",
       " 'Bombali',\n",
       " 'Bonthe',\n",
       " 'Kailahun',\n",
       " 'Kambia',\n",
       " 'Koinadugu',\n",
       " 'Kono',\n",
       " 'Moyamba',\n",
       " 'Port Loko',\n",
       " 'Tonkolili',\n",
       " 'Pujehun']"
      ]
     },
     "execution_count": 55,
     "metadata": {},
     "output_type": "execute_result"
    }
   ],
   "source": [
    "list(followup['District'].unique())"
   ]
  },
  {
   "cell_type": "code",
   "execution_count": 56,
   "metadata": {},
   "outputs": [
    {
     "data": {
      "text/plain": [
       "['Kono',\n",
       " 'Pujehun',\n",
       " 'Bonthe',\n",
       " 'Port Loko',\n",
       " 'Kailahun',\n",
       " 'Bombali',\n",
       " '*',\n",
       " 'Bo',\n",
       " 'Moyamba',\n",
       " 'Tonkolili',\n",
       " 'Koinadugu',\n",
       " 'Kambia']"
      ]
     },
     "execution_count": 56,
     "metadata": {},
     "output_type": "execute_result"
    }
   ],
   "source": [
    "list(trigger['District'].unique())"
   ]
  },
  {
   "cell_type": "code",
   "execution_count": 57,
   "metadata": {},
   "outputs": [],
   "source": [
    "numeric_only = trigger.drop(columns=['Trig_date','District','Chiefdom','Section','Name_of_community'])"
   ]
  },
  {
   "cell_type": "code",
   "execution_count": 58,
   "metadata": {},
   "outputs": [],
   "source": [
    "import seaborn as sns\n",
    "import matplotlib as plt"
   ]
  },
  {
   "cell_type": "code",
   "execution_count": 59,
   "metadata": {},
   "outputs": [
    {
     "data": {
      "image/png": "[encoded data removed]",
      "text/plain": [
       "<Figure size 432x288 with 1 Axes>"
      ]
     },
     "metadata": {
      "needs_background": "light"
     },
     "output_type": "display_data"
    }
   ],
   "source": [
    "for c in list(numeric_only.columns):\n",
    "    sns.distplot(numeric_only[c].dropna())"
   ]
  },
  {
   "cell_type": "code",
   "execution_count": null,
   "metadata": {},
   "outputs": [],
   "source": []
  }
 ],
 "metadata": {
  "kernelspec": {
   "display_name": "Python 3",
   "language": "python",
   "name": "python3"
  },
  "language_info": {
   "codemirror_mode": {
    "name": "ipython",
    "version": 3
   },
   "file_extension": ".py",
   "mimetype": "text/x-python",
   "name": "python",
   "nbconvert_exporter": "python",
   "pygments_lexer": "ipython3",
   "version": "3.6.8"
  },
  "toc": {
   "base_numbering": 1,
   "nav_menu": {},
   "number_sections": true,
   "sideBar": true,
   "skip_h1_title": false,
   "title_cell": "Table of Contents",
   "title_sidebar": "Contents",
   "toc_cell": true,
   "toc_position": {},
   "toc_section_display": true,
   "toc_window_display": true
  }
 },
 "nbformat": 4,
 "nbformat_minor": 2
}
